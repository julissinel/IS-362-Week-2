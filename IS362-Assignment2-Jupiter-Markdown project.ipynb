{
 "cells": [
  {
   "cell_type": "code",
   "execution_count": null,
   "metadata": {},
   "outputs": [],
   "source": [
    "Understanding the Python zip() Function\n",
    "============\n",
    "\n",
    "By the end of this tutorial, you’ll learn:\n",
    "\n",
    "*  How zip() works in both Python 3 and Python 2\n",
    "*  How to use the Python zip() function for parallel iteration\n",
    "\n",
    "zip() is available in the built-in namespace. \n",
    "If you use dir() to inspect __builtins__, then you’ll see zip() at the end of the list:\n",
    "\n",
    "> According to the official documentation, Python’s zip() function behaves as follows:\n",
    ">\n",
    "> Returns an iterator of tuples, where the i-th tuple contains the i-th element from each of the argument sequences or iterables. \n",
    ">\n",
    "> The iterator stops when the shortest input iterable is exhausted.\n",
    ">\n",
    "> With a single iterable argument, it returns an iterator of 1-tuples. With no arguments, it returns an empty iterator.\n",
    "\n",
    "\n",
    "\n",
    "\n",
    "Understanding the Python zip() Function\n",
    "------------\n",
    "Passing n Arguments\n",
    "If you use zip() with n arguments, then the function will return an iterator that generates tuples of length n. \n",
    "To see this in action, take a look at the following code block:\n",
    "\n",
    "\n",
    ">>> numbers = [1, 2, 3]\n",
    ">>> letters = ['a', 'b', 'c']\n",
    ">>> zipped = zip(numbers, letters)\n",
    ">>> zipped  # Holds an iterator object\n",
    "<zip object at 0x7fa4831153c8>\n",
    ">>> type(zipped)\n",
    "<class 'zip'>\n",
    ">>> list(zipped)\n",
    "[(1, 'a'), (2, 'b'), (3, 'c')]\n",
    "\n",
    "\n",
    "~~~\n",
    "\n",
    "\n",
    "\n"
   ]
  },
  {
   "cell_type": "code",
   "execution_count": 3,
   "metadata": {},
   "outputs": [
    {
     "data": {
      "text/plain": [
       "[(1, 'a'), (2, 'b'), (3, 'c')]"
      ]
     },
     "execution_count": 3,
     "metadata": {},
     "output_type": "execute_result"
    }
   ],
   "source": [
    ">>> numbers = [1, 2, 3]\n",
    ">>> letters = ['a', 'b', 'c']\n",
    ">>> zipped = zip(numbers, letters)\n",
    ">>> zipped  # Holds an iterator object\n",
    ">>> type(zipped)\n",
    ">>> list(zipped)\n"
   ]
  },
  {
   "cell_type": "code",
   "execution_count": null,
   "metadata": {},
   "outputs": [],
   "source": []
  }
 ],
 "metadata": {
  "kernelspec": {
   "display_name": "Python 3",
   "language": "python",
   "name": "python3"
  },
  "language_info": {
   "codemirror_mode": {
    "name": "ipython",
    "version": 3
   },
   "file_extension": ".py",
   "mimetype": "text/x-python",
   "name": "python",
   "nbconvert_exporter": "python",
   "pygments_lexer": "ipython3",
   "version": "3.8.3"
  }
 },
 "nbformat": 4,
 "nbformat_minor": 4
}
